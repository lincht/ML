{
 "cells": [
  {
   "cell_type": "markdown",
   "metadata": {},
   "source": [
    "# Matrix Factorization Problems"
   ]
  },
  {
   "cell_type": "code",
   "execution_count": 1,
   "metadata": {},
   "outputs": [],
   "source": [
    "import numpy as np\n",
    "from sklearn.decomposition import PCA, TruncatedSVD, FactorAnalysis, NMF\n",
    "import matplotlib.pyplot as plt\n",
    "\n",
    "plt.style.use('seaborn')\n",
    "plt.rcParams['figure.figsize'] = 8, 6"
   ]
  },
  {
   "cell_type": "code",
   "execution_count": 2,
   "metadata": {},
   "outputs": [],
   "source": [
    "def frobenius_norm(a):\n",
    "    return np.sqrt((a ** 2).sum())\n",
    "\n",
    "\n",
    "def plot_quiver(axes, U, V, width=0.003, headwidth=10, headlength=10,\n",
    "                **kwargs):\n",
    "    axes.quiver([0], [0], U, V, angles='xy', scale_units='xy', scale=1,\n",
    "                width=width, headwidth=headwidth, headlength=headlength,\n",
    "                **kwargs)"
   ]
  },
  {
   "cell_type": "code",
   "execution_count": 3,
   "metadata": {},
   "outputs": [],
   "source": [
    "m = 5\n",
    "np.random.seed(7)\n",
    "\n",
    "X = np.random.normal(size=(m, 2))"
   ]
  },
  {
   "cell_type": "markdown",
   "metadata": {},
   "source": [
    "### 1. PCA"
   ]
  },
  {
   "cell_type": "markdown",
   "metadata": {},
   "source": [
    "#### Decomposition"
   ]
  },
  {
   "cell_type": "markdown",
   "metadata": {},
   "source": [
    "We want to obtain the eigenvectors of the covariance matrix $\\Sigma := XX^T$. One way is to perform the **_eigendecomposition_** (aka **_spectral decomposition_** or **_diagonalization_**)\n",
    "\n",
    "$$\\Sigma = Q \\Lambda Q^T$$\n",
    "\n",
    "where the columns of $Q$ are eigenvectors of $\\Sigma$.\n",
    "\n",
    "However, in practice, more often the **_singular value decomposition_**\n",
    "\n",
    "$$\\Sigma = USV^T$$\n",
    "\n",
    "is used instead. This is because when applied to a symmetric positive semi-definite matrix (which $\\Sigma$ is), the eigendecomposition and the SVD coincide (up to order of eigenvalues and signs of eigenvectors).\n",
    "\n",
    "Moreover, given an SVD of $\\Sigma$, we have\n",
    "\n",
    "$$\\Sigma\\Sigma^T = USV^TVS^TU^T = U(SS^T)U^T = U\\hat{S}^2U^T$$\n",
    "\n",
    "meaning that the columns of $U$ (the left-singular vectors of $\\Sigma$ in the SVD) are also eigenvectors of $\\Sigma\\Sigma^T$. Thus the columns of $U$ are eigenvectors of both $\\Sigma$ and $\\Sigma\\Sigma^T$."
   ]
  },
  {
   "cell_type": "code",
   "execution_count": 4,
   "metadata": {},
   "outputs": [
    {
     "name": "stdout",
     "output_type": "stream",
     "text": [
      "Frobenius norm of SVD : 2.2971826326221923e-16\n",
      "\n",
      "Eigenvectors of Sigma returned by SVD =\n",
      "[[-0.81947463 -0.57311546]\n",
      " [-0.57311546  0.81947463]]\n",
      "\n",
      "Eigenvectors of Sigma returned by eigendecomposition =\n",
      "[[ 0.81947463 -0.57311546]\n",
      " [ 0.57311546  0.81947463]]\n",
      "\n",
      "Eigenvectors of Sigma Sigma.T =\n",
      "[[ 0.81947463 -0.57311546]\n",
      " [ 0.57311546  0.81947463]]\n"
     ]
    }
   ],
   "source": [
    "# Compute covariance matrix of X\n",
    "m = X.shape[0]\n",
    "X_norm = X - X.mean(axis=0)\n",
    "Sigma = 1/m * X_norm.T @ X_norm\n",
    "\n",
    "# SVD\n",
    "U, s, VT = np.linalg.svd(Sigma)\n",
    "S = np.diag(s)\n",
    "\n",
    "# Verify equality of decomposition\n",
    "print('Frobenius norm of SVD :', frobenius_norm(Sigma - U@S@VT))\n",
    "\n",
    "# Eigendecomposition\n",
    "l, Q = np.linalg.eig(Sigma)\n",
    "Lambda = np.diag(l)\n",
    "\n",
    "print('\\nEigenvectors of Sigma returned by SVD =\\n', U, sep='')\n",
    "print('\\nEigenvectors of Sigma returned by eigendecomposition =\\n',\n",
    "      Q, sep='')\n",
    "print('\\nEigenvectors of Sigma Sigma.T =\\n',\n",
    "      np.linalg.eig(Sigma @ Sigma.T)[1], sep='')"
   ]
  },
  {
   "cell_type": "markdown",
   "metadata": {},
   "source": [
    "#### Transformation"
   ]
  },
  {
   "cell_type": "markdown",
   "metadata": {},
   "source": [
    "The principal components of $X$ are given by the eigenvectors of $\\Sigma$, that is, the columns of $U$. To transform $X$, we project it onto the $k$-dimensional linear subspace spanned by the $k$ eigenvectors:\n",
    "\n",
    "$$z^{(i)} := U_{reduce}^T x^{(i)}$$\n",
    "or\n",
    "$$Z := XU_{reduce}$$"
   ]
  },
  {
   "cell_type": "code",
   "execution_count": 5,
   "metadata": {},
   "outputs": [
    {
     "name": "stdout",
     "output_type": "stream",
     "text": [
      "First component =\n",
      "[[-0.81947463]\n",
      " [-0.57311546]]\n",
      "\n",
      "Principal component returned by PCA =\n",
      "[[-0.81947463]\n",
      " [-0.57311546]]\n",
      "\n",
      "Projections =\n",
      "[[-1.11830702]\n",
      " [-0.26044917]\n",
      " [ 0.6453186 ]\n",
      " [ 1.00638927]\n",
      " [-1.1780999 ]]\n",
      "\n",
      "Transformed X returned by PCA =\n",
      "[[-0.93727737]\n",
      " [-0.07941953]\n",
      " [ 0.82634824]\n",
      " [ 1.18741892]\n",
      " [-0.99707026]]\n",
      "\n",
      "Frobenius norm = 0.4047945901263485\n"
     ]
    }
   ],
   "source": [
    "# Manually perform projection\n",
    "first_comp = np.c_[U[:, 0]]\n",
    "Z = X @ first_comp\n",
    "\n",
    "# Results of PCA\n",
    "pca = PCA(n_components=1)\n",
    "X_pca = pca.fit_transform(X)\n",
    "\n",
    "print('First component =\\n', first_comp, sep='')\n",
    "print('\\nPrincipal component returned by PCA =\\n',\n",
    "      pca.components_.reshape(-1, 1), sep='')\n",
    "\n",
    "print('\\nProjections =\\n', Z, sep='')\n",
    "print('\\nTransformed X returned by PCA =\\n', X_pca, sep='')\n",
    "\n",
    "print('\\nFrobenius norm =', frobenius_norm(Z - X_pca))"
   ]
  },
  {
   "cell_type": "markdown",
   "metadata": {},
   "source": [
    "#### Reconstruction of samples"
   ]
  },
  {
   "cell_type": "markdown",
   "metadata": {},
   "source": [
    "If all principal components were kept, $X$ can be perfectly reconstructed because\n",
    "\n",
    "$$ZU^T = XUU^T = X$$\n",
    "\n",
    "However, when $k < n$, the best possible reconstruction is\n",
    "\n",
    "$$X_{approx} := ZU_{reduce}^{T} = XU_{reduce}U_{reduce}^T \\neq X$$"
   ]
  },
  {
   "cell_type": "code",
   "execution_count": 6,
   "metadata": {},
   "outputs": [
    {
     "data": {
      "image/png": "[encoded data removed]",
      "text/plain": [
       "<Figure size 864x432 with 2 Axes>"
      ]
     },
     "metadata": {
      "needs_background": "light"
     },
     "output_type": "display_data"
    }
   ],
   "source": [
    "fig, axes = plt.subplots(1, 2, figsize=(12, 6))\n",
    "\n",
    "# Original data\n",
    "plot_quiver(axes[0], X[:, 0], X[:, 1], label='$X$')\n",
    "\n",
    "# Principal component\n",
    "plot_quiver(axes[0], first_comp[0], first_comp[1],\n",
    "            width=0.01, headwidth=5, headlength=7, color='C2',\n",
    "            label='Principal component')\n",
    "\n",
    "# Reconstructed data\n",
    "X_approx = Z @ first_comp.T\n",
    "plot_quiver(axes[0], X_approx[:, 0], X_approx[:, 1], color='C0',\n",
    "            label='$X_{approx}$')\n",
    "\n",
    "axes[0].axis([-2, 2, -2, 2])\n",
    "axes[0].set_xlabel('$X_1$')\n",
    "axes[0].set_ylabel('$X_2$')\n",
    "axes[0].set_title('Original Feature Space')\n",
    "axes[0].legend()\n",
    "\n",
    "# Projection\n",
    "plot_quiver(axes[1], Z, [0]*m, color='C1', label='Z')\n",
    "\n",
    "axes[1].axis([-2, 2, -2, 2])\n",
    "axes[1].set_xlabel('$Z$')\n",
    "axes[1].get_yaxis().set_visible(False)\n",
    "axes[1].set_title('Space Spanned by Principal Component')\n",
    "axes[1].legend()\n",
    "\n",
    "plt.show()"
   ]
  },
  {
   "cell_type": "markdown",
   "metadata": {},
   "source": [
    "### 2. Truncated SVD (LSA)"
   ]
  },
  {
   "cell_type": "markdown",
   "metadata": {},
   "source": [
    "#### Decomposition"
   ]
  },
  {
   "cell_type": "markdown",
   "metadata": {},
   "source": [
    "Let $Y:= X^T$. The algorithm first computes an orthonormal matrix $Q$ of shape `(n_features, n_components + n_oversamples)` whose range approximates the range of $Y$, projects $Y$ onto a lower-dimensional space to obtain a low-rank approximation $Y_k$:\n",
    "\n",
    "$$Y_k := Q^TY$$\n",
    "\n",
    "(or equivalently, $Y_k^T := Y^TQ = XQ$)\n",
    "\n",
    "and then perform the SVD on the approximation:\n",
    "\n",
    "$$Y_k = \\hat{U_k}S_kV_k^T$$\n",
    "$$U_k = Q\\hat{U_k}$$"
   ]
  },
  {
   "cell_type": "markdown",
   "metadata": {},
   "source": [
    "where the transposed columns of $U_k$ are the components."
   ]
  },
  {
   "cell_type": "code",
   "execution_count": 7,
   "metadata": {},
   "outputs": [
    {
     "name": "stdout",
     "output_type": "stream",
     "text": [
      "TruncatedSVD component =\n",
      "[[ 0.97593037 -0.21808235]]\n",
      "\n",
      "SVD component =\n",
      "[[-0.97593037  0.21808235]]\n"
     ]
    }
   ],
   "source": [
    "# Results of TruncatedSVD\n",
    "tsvd = TruncatedSVD(n_components=1)\n",
    "X_tsvd = tsvd.fit_transform(X)\n",
    "\n",
    "# Compare with SVD\n",
    "U, s, VT = np.linalg.svd(X)\n",
    "svd_component = VT[0, :].reshape(1, -1)\n",
    "\n",
    "print('TruncatedSVD component =\\n', tsvd.components_, sep='')\n",
    "print('\\nSVD component =\\n', svd_component, sep='')"
   ]
  },
  {
   "cell_type": "markdown",
   "metadata": {},
   "source": [
    "#### Transformation"
   ]
  },
  {
   "cell_type": "markdown",
   "metadata": {},
   "source": [
    "$$Z = U_kS_k^T$$\n",
    "\n",
    "is the transformed training set, and new data are transformed by multiplying with $V_k$:\n",
    "\n",
    "$$X_{new}' = X_{new}V_k$$"
   ]
  },
  {
   "cell_type": "code",
   "execution_count": 8,
   "metadata": {},
   "outputs": [
    {
     "name": "stdout",
     "output_type": "stream",
     "text": [
      "Transformed X, with TruncatedSVD =\n",
      "[[ 1.75144809]\n",
      " [-0.05684192]\n",
      " [-0.77038441]\n",
      " [ 0.38180545]\n",
      " [ 0.86220522]]\n",
      "\n",
      "Transformed X, with SVD =\n",
      "[[-1.75144809]\n",
      " [ 0.05684192]\n",
      " [ 0.77038441]\n",
      " [-0.38180545]\n",
      " [-0.86220522]]\n",
      "\n",
      "Transformed new data, with TruncatedSVD =\n",
      "[[ 1.65038175]\n",
      " [ 0.50056968]\n",
      " [-0.1933449 ]\n",
      " [ 0.05598786]\n",
      " [ 0.06130935]]\n",
      "\n",
      "Transformed new data, with SVD =\n",
      "[[-1.65038175]\n",
      " [-0.50056968]\n",
      " [ 0.1933449 ]\n",
      " [-0.05598786]\n",
      " [-0.06130935]]\n"
     ]
    }
   ],
   "source": [
    "print('Transformed X, with TruncatedSVD =\\n', X_tsvd, sep='')\n",
    "print('\\nTransformed X, with SVD =\\n', np.c_[U[:, 0]] * s[0], sep='')\n",
    "\n",
    "np.random.seed(3)\n",
    "X_test = np.random.normal(size=(5, 2))\n",
    "\n",
    "print('\\nTransformed new data, with TruncatedSVD =\\n', tsvd.transform(X_test),\n",
    "      sep='')\n",
    "print('\\nTransformed new data, with SVD =\\n', (X_test @ svd_component.T),\n",
    "      sep='')"
   ]
  },
  {
   "cell_type": "markdown",
   "metadata": {},
   "source": [
    "### 3. Factor analysis"
   ]
  },
  {
   "cell_type": "markdown",
   "metadata": {},
   "source": [
    "The factor analysis model is explaining the observed covariance structure of the data by:\n",
    "\n",
    "1. representing the independent noise variances for each variable into the diagonal elements of $\\Psi$; and\n",
    "2. capturing the covariance between variables in the columns of $W$ (called *factor loadings*) (Bishop, 12.2.4)."
   ]
  },
  {
   "cell_type": "markdown",
   "metadata": {},
   "source": [
    "#### Decomposition"
   ]
  },
  {
   "cell_type": "markdown",
   "metadata": {},
   "source": [
    "$$X = WH + M + E$$"
   ]
  },
  {
   "cell_type": "markdown",
   "metadata": {},
   "source": [
    "#### Transformation"
   ]
  },
  {
   "cell_type": "markdown",
   "metadata": {},
   "source": [
    "$$z = GW^T\\Psi^{-1}(x - \\bar{x})$$\n",
    "or in vectorized form\n",
    "$$Z = X_{normalized}\\Psi^{-1}WG$$\n",
    "where\n",
    "$$G = (I + W^T\\Psi^{-1}W)^{-1}$$"
   ]
  },
  {
   "cell_type": "code",
   "execution_count": 9,
   "metadata": {},
   "outputs": [
    {
     "name": "stdout",
     "output_type": "stream",
     "text": [
      "Transformed X =\n",
      "[[-0.28701875]\n",
      " [-0.08391787]\n",
      " [ 0.24887319]\n",
      " [ 0.52372514]\n",
      " [-0.40166171]]\n",
      "\n",
      "Transformed X returned by FactorAnalysis =\n",
      "[[-0.28701875]\n",
      " [-0.08391787]\n",
      " [ 0.24887319]\n",
      " [ 0.52372514]\n",
      " [-0.40166171]]\n"
     ]
    }
   ],
   "source": [
    "# Results of FactorAnalysis\n",
    "fa = FactorAnalysis(n_components=1)\n",
    "X_fa = fa.fit_transform(X)\n",
    "WT = fa.components_\n",
    "W = WT.T\n",
    "Psi = fa.noise_variance_\n",
    "\n",
    "# Manual calculation\n",
    "G = np.linalg.inv(np.eye(1) + WT/Psi@W)\n",
    "\n",
    "print('Transformed X =\\n', (X-X.mean(axis=0)) / Psi @ W @ G, sep='')\n",
    "print('\\nTransformed X returned by FactorAnalysis =\\n', X_fa, sep='')"
   ]
  },
  {
   "cell_type": "markdown",
   "metadata": {},
   "source": [
    "### 4. NMF"
   ]
  },
  {
   "cell_type": "markdown",
   "metadata": {},
   "source": [
    "$X$ is decomposed into $W$ and $H$ of non-negative elements:\n",
    "\n",
    "$$X \\approx WH$$\n",
    "\n",
    "$W$ is the transformed data, and reconstructed samples $X' = WH$."
   ]
  },
  {
   "cell_type": "code",
   "execution_count": 10,
   "metadata": {},
   "outputs": [
    {
     "name": "stdout",
     "output_type": "stream",
     "text": [
      "Frobenius norm of SVD : 4.204859089024913\n"
     ]
    }
   ],
   "source": [
    "np.random.seed(7)\n",
    "X = np.random.randint(10, size=(m, 2))\n",
    "\n",
    "nmf = NMF(n_components=1)\n",
    "X_nmf = nmf.fit_transform(X)\n",
    "\n",
    "# Verify equality of decomposition (also reconstruction)\n",
    "print('Frobenius norm of SVD :', frobenius_norm(X - X_nmf@nmf.components_))"
   ]
  }
 ],
 "metadata": {
  "kernelspec": {
   "display_name": "Python 3",
   "language": "python",
   "name": "python3"
  },
  "language_info": {
   "codemirror_mode": {
    "name": "ipython",
    "version": 3
   },
   "file_extension": ".py",
   "mimetype": "text/x-python",
   "name": "python",
   "nbconvert_exporter": "python",
   "pygments_lexer": "ipython3",
   "version": "3.6.6"
  }
 },
 "nbformat": 4,
 "nbformat_minor": 2
}
