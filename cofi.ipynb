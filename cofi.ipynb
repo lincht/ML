{
 "cells": [
  {
   "cell_type": "code",
   "execution_count": 1,
   "metadata": {},
   "outputs": [],
   "source": [
    "import operator\n",
    "from progressbar import progressbar\n",
    "import numpy as np\n",
    "import pandas as pd\n",
    "from scipy.sparse import lil_matrix, coo_matrix, csr_matrix\n",
    "import matplotlib.pyplot as plt"
   ]
  },
  {
   "cell_type": "code",
   "execution_count": 2,
   "metadata": {},
   "outputs": [],
   "source": [
    "def cost(X, Theta, Y, R, lambda_):\n",
    "    J = ((X@Theta.T - Y).multiply(R).power(2).sum() / 2\n",
    "         + lambda_ / 2 * X.power(2).sum()\n",
    "         + lambda_ / 2 * Theta.power(2).sum())\n",
    "    return J\n",
    "\n",
    "\n",
    "def gradient(X, Theta, Y, R):\n",
    "    X_grad = lil_matrix((X.shape[0], X.shape[1]))\n",
    "    Theta_grad = lil_matrix((Theta.shape[0], Theta.shape[1]))\n",
    "    for i in range(X_grad.shape[0]):\n",
    "        idx = (R[i, :] == 1).nonzero()[1]\n",
    "        Theta_temp = Theta[idx, :]\n",
    "        Y_temp = Y[i, idx]\n",
    "        X_grad[i, :] = ((X[i, :]@Theta_temp.transpose() - Y_temp) @ Theta_temp\n",
    "                        # 1 x n          n x k            1 x k       k x n \n",
    "                        + lambda_ * X[i, :])\n",
    "    for j in range(Theta_grad.shape[0]):\n",
    "        idx = (R[:, j] == 1).nonzero()[1]\n",
    "        X_temp = X[idx, :]\n",
    "        Y_temp = Y[idx, j]\n",
    "        Theta_grad[j, :] = ((Theta[j, :]@X_temp.transpose() - Y_temp.transpose()) @ X_temp\n",
    "                            #   1 x n          n x k                1 x k           k x n\n",
    "                            + lambda_ * Theta[j, :])\n",
    "    return X_grad.tocsr(), Theta_grad.tocsr()\n",
    "\n",
    "\n",
    "def gradient_descent(X, Theta, Y, R, alpha, n_iter, lambda_):\n",
    "    J_history = []\n",
    "    for _ in progressbar(range(n_iter)):\n",
    "        X_grad, Theta_grad = gradient(X, Theta, Y, R)\n",
    "        X = X - alpha * X_grad\n",
    "        Theta = Theta - alpha * Theta_grad\n",
    "        J = cost(X, Theta, Y, R, lambda_)\n",
    "        J_history.append(J)\n",
    "    return X, Theta, J_history"
   ]
  },
  {
   "cell_type": "code",
   "execution_count": 3,
   "metadata": {},
   "outputs": [
    {
     "name": "stdout",
     "output_type": "stream",
     "text": [
      "Number of movies: 453\n",
      "Number of users: 671\n"
     ]
    }
   ],
   "source": [
    "# Load data\n",
    "movies = pd.read_csv('./data/ml-latest-small/movies.csv', header=0, names=['movie', 'title', 'genres'])\n",
    "ratings = pd.read_csv('./data/ml-latest-small/ratings.csv', header=0, names=['user', 'movie', 'rating', 'timestamp'])\n",
    "\n",
    "# To speed up, keep only movies with more than 50 ratings\n",
    "n_ratings = ratings.groupby('movie')['user'].count()\n",
    "most_rated = n_ratings[n_ratings >= 50].index.tolist()\n",
    "movies = movies[movies['movie'].isin(most_rated)].reset_index(drop=True)\n",
    "ratings = ratings[ratings['movie'].isin(most_rated)]\n",
    "n_movies = len(movies)\n",
    "n_users = ratings['user'].nunique() + 1\n",
    "print('Number of movies:', n_movies)\n",
    "print('Number of users:', n_users)\n",
    "\n",
    "# Reindex movies to have consecutive ids\n",
    "movie_dict = movies['movie'].reset_index().set_index('movie').to_dict()['index']\n",
    "movies['movie'] = movies['movie'].map(movie_dict)\n",
    "ratings['movie'] = ratings['movie'].map(movie_dict)\n",
    "\n",
    "# Reindex users to have consecutive ids\n",
    "user_dict = (pd.Series(ratings['user'].unique(), index=range(1, n_users), name='user')\n",
    "             .reset_index().set_index('user').to_dict()['index'])\n",
    "ratings['user'] = ratings['user'].map(user_dict)\n",
    "\n",
    "# Construct sparse matrix Y\n",
    "row = ratings['movie'].values\n",
    "col = ratings['user'].values\n",
    "data = ratings['rating'].values\n",
    "Y = csr_matrix((data, (row, col)), shape=(n_movies, n_users)).tolil()\n",
    "\n",
    "# Add ratings to the first column of Y (which was left empty)\n",
    "my_ratings = {56: 5,\n",
    "              66: 4,\n",
    "              109: 3.5,\n",
    "              138: 3.5,\n",
    "              201: 3,\n",
    "              203: 3,\n",
    "              250: 3,\n",
    "              252: 4,\n",
    "              301: 3,\n",
    "              380: 4.5,\n",
    "              431: 3.5,\n",
    "              436: 3.5,\n",
    "              442: 3,\n",
    "              443: 3.5,\n",
    "              450: 3.5,\n",
    "              452: 3}\n",
    "for m, r in my_ratings.items():\n",
    "    Y[m, 0] = r\n",
    "Y = Y.tocsr()\n",
    "\n",
    "# Construct binary matrix R\n",
    "nonzero_row, nonzero_col = Y.nonzero()\n",
    "n_nonzero = len(nonzero_row)\n",
    "R = csr_matrix(([1]*n_nonzero, (nonzero_row, nonzero_col)), shape=(Y.shape[0], Y.shape[1]))\n",
    "\n",
    "# Normalize ratings\n",
    "Y_mean = np.array([Y[i, Y[i, :].nonzero()[1]].mean() for i in range(Y.shape[0])])\n",
    "Y = Y.tocoo()\n",
    "data = Y.data\n",
    "for i, m in enumerate(Y_mean):\n",
    "    idx = Y.row == i\n",
    "    data[idx] -= m\n",
    "Y = coo_matrix((data, (Y.row, Y.col)), shape=(n_movies, n_users)).tocsr()"
   ]
  },
  {
   "cell_type": "code",
   "execution_count": 4,
   "metadata": {},
   "outputs": [
    {
     "name": "stderr",
     "output_type": "stream",
     "text": [
      "100% (20 of 20) |########################| Elapsed Time: 0:00:43 Time:  0:00:43\n"
     ]
    }
   ],
   "source": [
    "# Initialize X and Theta\n",
    "n = 100\n",
    "np.random.seed(52)\n",
    "X = csr_matrix(np.random.normal(size=(n_movies, n)))\n",
    "Theta = csr_matrix(np.random.normal(size=(n_users, n)))\n",
    "\n",
    "alpha = 6e-5\n",
    "n_iter = 20\n",
    "lambda_ = 1e4\n",
    "\n",
    "# Run gradient descent\n",
    "X, Theta, J_history = gradient_descent(X, Theta, Y, R, alpha, n_iter, lambda_)"
   ]
  },
  {
   "cell_type": "markdown",
   "metadata": {},
   "source": [
    "### Gradient Descent Convergence Check"
   ]
  },
  {
   "cell_type": "code",
   "execution_count": 5,
   "metadata": {},
   "outputs": [
    {
     "data": {
      "image/png": "[encoded data removed]",
      "text/plain": [
       "<Figure size 432x288 with 1 Axes>"
      ]
     },
     "metadata": {},
     "output_type": "display_data"
    }
   ],
   "source": [
    "plt.plot(range(1, len(J_history)+1), J_history)\n",
    "plt.xlabel('Number of Iterations')\n",
    "plt.ylabel(r'$J(X, \\Theta)$')\n",
    "plt.title('Gradient Descent Convergence Check')\n",
    "plt.show()"
   ]
  },
  {
   "cell_type": "markdown",
   "metadata": {},
   "source": [
    "### Recommendations"
   ]
  },
  {
   "cell_type": "code",
   "execution_count": 6,
   "metadata": {},
   "outputs": [
    {
     "name": "stdout",
     "output_type": "stream",
     "text": [
      "Top recommendations:\n",
      "4.5 Godfather, The (1972)\n",
      "4.4 African Queen, The (1951)\n",
      "4.4 Maltese Falcon, The (1941)\n",
      "4.4 Godfather: Part II, The (1974)\n",
      "4.4 Usual Suspects, The (1995)\n",
      "4.4 Raging Bull (1980)\n",
      "4.3 Chinatown (1974)\n",
      "4.3 Rear Window (1954)\n",
      "4.3 12 Angry Men (1957)\n",
      "4.3 Schindler's List (1993)\n",
      "\n",
      "Ratings originally provided:\n",
      "5.0 Shawshank Redemption, The (1994)\n",
      "4.5 Amelie (Fabuleux destin d'Amélie Poulain, Le) (2001)\n",
      "4.0 Titanic (1997)\n",
      "4.0 Forrest Gump (1994)\n",
      "3.5 Avatar (2009)\n",
      "3.5 Iron Man (2008)\n",
      "3.5 Prestige, The (2006)\n",
      "3.5 V for Vendetta (2006)\n",
      "3.5 Casablanca (1942)\n",
      "3.5 Beauty and the Beast (1991)\n",
      "3.0 Inception (2010)\n",
      "3.0 Dark Knight, The (2008)\n",
      "3.0 Matrix, The (1999)\n",
      "3.0 Truman Show, The (1998)\n",
      "3.0 Back to the Future (1985)\n",
      "3.0 Groundhog Day (1993)\n"
     ]
    }
   ],
   "source": [
    "# Make predictions\n",
    "pred = X @ Theta.transpose()\n",
    "my_pred = pred[:, 0].toarray().flatten() + Y_mean\n",
    "\n",
    "# Get top recommendations\n",
    "n_rec = 10\n",
    "while True:\n",
    "    rec = my_pred.argsort()[-n_rec:][::-1]\n",
    "    # If recommendations contain movies already seen, remove them and get new recommendations\n",
    "    rec_seen = set(rec) & set(my_ratings.keys())\n",
    "    if len(set(rec) - set(rec_seen)) == 10:\n",
    "        rec = [r for r in rec if r not in rec_seen]\n",
    "        break\n",
    "    else:\n",
    "        n_rec += len(rec_seen)\n",
    "        continue\n",
    "rec_ratings = my_pred[rec].round(1)\n",
    "\n",
    "print('Top recommendations:')\n",
    "for m, r in zip(rec, rec_ratings):\n",
    "    print('{:3.1f} {}'.format(r, movies.loc[movies['movie'] == m, 'title'].values[0]))\n",
    "print()\n",
    "print('Ratings originally provided:')\n",
    "for m, r in sorted(my_ratings.items(), key=operator.itemgetter(1))[::-1]:\n",
    "    print('{:3.1f} {}'.format(r, movies.loc[movies['movie'] == m, 'title'].values[0]))"
   ]
  }
 ],
 "metadata": {
  "kernelspec": {
   "display_name": "Python 3",
   "language": "python",
   "name": "python3"
  },
  "language_info": {
   "codemirror_mode": {
    "name": "ipython",
    "version": 3
   },
   "file_extension": ".py",
   "mimetype": "text/x-python",
   "name": "python",
   "nbconvert_exporter": "python",
   "pygments_lexer": "ipython3",
   "version": "3.6.5"
  }
 },
 "nbformat": 4,
 "nbformat_minor": 2
}
